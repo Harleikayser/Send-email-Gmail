{
 "cells": [
  {
   "cell_type": "code",
   "execution_count": null,
   "id": "40bb25a6",
   "metadata": {},
   "outputs": [],
   "source": [
    "import smtplib\n",
    "import email.message\n",
    "\n",
    "server = smtplib.SMTP('smtp.gmail.com:587')  \n",
    "corpo_email = \"Corpo do E-mail\"\n",
    "  \n",
    "msg = email.message.Message()\n",
    "msg['Subject'] = \"Assunto do E-mail\"\n",
    "  \n",
    "# Fazer antes (apenas na 1ª vez): Ativar Aplicativos não Seguros.\n",
    "  # Gerenciar Conta Google -> Segurança -> Aplicativos não Seguros -> Habilitar\n",
    "# Caso mesmo assim dê o erro: smtplib.SMTPAuthenticationError: (534,\n",
    "# Você faz o login no seu e-mail e depois entra em: https://accounts.google.com/DisplayUnlockCaptcha\n",
    "msg['From'] = 'harleijkayser@gmail.com'\n",
    "msg['To'] = 'hkayser@metropei.com'\n",
    "password = \"senha\"\n",
    "msg.add_header('Content-Type', 'text/html')\n",
    "msg.set_payload(corpo_email )\n",
    "  \n",
    "s = smtplib.SMTP('smtp.gmail.com: 587')\n",
    "s.starttls()\n",
    "# Login Credentials for sending the mail\n",
    "s.login(msg['From'], password)\n",
    "s.sendmail(msg['From'], [msg['To']], msg.as_string().encode('utf-8'))\n",
    "print('Email enviado')"
   ]
  }
 ],
 "metadata": {
  "kernelspec": {
   "display_name": "Python 3 (ipykernel)",
   "language": "python",
   "name": "python3"
  },
  "language_info": {
   "codemirror_mode": {
    "name": "ipython",
    "version": 3
   },
   "file_extension": ".py",
   "mimetype": "text/x-python",
   "name": "python",
   "nbconvert_exporter": "python",
   "pygments_lexer": "ipython3",
   "version": "3.9.12"
  }
 },
 "nbformat": 4,
 "nbformat_minor": 5
}
